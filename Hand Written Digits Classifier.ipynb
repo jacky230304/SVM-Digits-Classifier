{
 "cells": [
  {
   "cell_type": "markdown",
   "metadata": {},
   "source": [
    "Hand Written Digits Classifier Using Scikit-Learn Library\n",
    "\n",
    "This project was conceived with the awareness that thousands of businesses and instances in Indonesia still operate without digitalization, relying heavily on manual handwriting methods."
   ]
  },
  {
   "cell_type": "markdown",
   "metadata": {},
   "source": [
    "Background\n",
    "\n",
    "Information technology plays a crucial role in our lives, providing substantial assistance and convenience in our daily routines. Computers, in particular, have become indispensable tools for gathering information efficiently and in a timely manner. However, in many small-scale instances in Indonesia, whether in government or businesses, there remains a heavy reliance on manual administration processes.\n",
    "\n",
    "This manual approach comes with several significant drawbacks, chief among them being the potential for numerous human errors in both data entry and interpretation. While the solution to mitigating human errors in data entry is relatively straightforward—digitalization through computerization—it becomes more complex when dealing with pre-existing data that cannot be recreated.\n",
    "\n",
    "Therefore, there is a pressing need for technology capable of accurately classifying handwritten digits, especially when dealing with sensitive data. This technology can address the challenges associated with manual processes and enhance data accuracy and security."
   ]
  },
  {
   "cell_type": "markdown",
   "metadata": {},
   "source": [
    "Previous Cases\n",
    "\n",
    "Analisis Dan Perancangan Sistem Informasi Pada Kantor Desa Bukit Rawi Berbasis Web\n",
    "Author Wulandari Agustina\n",
    "\n",
    "\n",
    "Analisa Dan Perancangan Sistem Informasi Penjualan Dan Pengelolaan Barang Berbasis Web\n",
    "Author Tulhawa Riva, Fajriah Riri"
   ]
  },
  {
   "cell_type": "markdown",
   "metadata": {},
   "source": [
    "Goals & Objectives\n",
    "\n",
    "1. Create A SVM Classifier\n",
    "2. Optimize \n",
    "3. Deploy"
   ]
  },
  {
   "cell_type": "markdown",
   "metadata": {},
   "source": [
    "# Libraries"
   ]
  },
  {
   "cell_type": "markdown",
   "metadata": {},
   "source": [
    "In summary my code uses a combination of libraries and modules to perform various machine learning tasks, including data preprocessing, model training, evaluation, and visualization. These libraries and modules are fundamental tools for working with data and building machine learning models in Python."
   ]
  },
  {
   "cell_type": "code",
   "execution_count": 1,
   "metadata": {},
   "outputs": [
    {
     "name": "stdout",
     "output_type": "stream",
     "text": [
      "Requirement already satisfied: ibm-watson-machine-learning in /opt/conda/envs/Python-3.10/lib/python3.10/site-packages (1.0.322)\n",
      "Requirement already satisfied: tabulate in /opt/conda/envs/Python-3.10/lib/python3.10/site-packages (from ibm-watson-machine-learning) (0.8.10)\n",
      "Requirement already satisfied: pandas<1.6.0,>=0.24.2 in /opt/conda/envs/Python-3.10/lib/python3.10/site-packages (from ibm-watson-machine-learning) (1.4.3)\n",
      "Requirement already satisfied: lomond in /opt/conda/envs/Python-3.10/lib/python3.10/site-packages (from ibm-watson-machine-learning) (0.3.3)\n",
      "Requirement already satisfied: certifi in /opt/conda/envs/Python-3.10/lib/python3.10/site-packages (from ibm-watson-machine-learning) (2023.7.22)\n",
      "Requirement already satisfied: urllib3 in /opt/conda/envs/Python-3.10/lib/python3.10/site-packages (from ibm-watson-machine-learning) (1.26.11)\n",
      "Requirement already satisfied: importlib-metadata in /opt/conda/envs/Python-3.10/lib/python3.10/site-packages (from ibm-watson-machine-learning) (4.11.3)\n",
      "Requirement already satisfied: ibm-cos-sdk<2.14.0,>=2.12.0 in /opt/conda/envs/Python-3.10/lib/python3.10/site-packages (from ibm-watson-machine-learning) (2.12.0)\n",
      "Requirement already satisfied: requests in /opt/conda/envs/Python-3.10/lib/python3.10/site-packages (from ibm-watson-machine-learning) (2.31.0)\n",
      "Requirement already satisfied: packaging in /opt/conda/envs/Python-3.10/lib/python3.10/site-packages (from ibm-watson-machine-learning) (21.3)\n",
      "Requirement already satisfied: ibm-cos-sdk-s3transfer==2.12.0 in /opt/conda/envs/Python-3.10/lib/python3.10/site-packages (from ibm-cos-sdk<2.14.0,>=2.12.0->ibm-watson-machine-learning) (2.12.0)\n",
      "Requirement already satisfied: ibm-cos-sdk-core==2.12.0 in /opt/conda/envs/Python-3.10/lib/python3.10/site-packages (from ibm-cos-sdk<2.14.0,>=2.12.0->ibm-watson-machine-learning) (2.12.0)\n",
      "Requirement already satisfied: jmespath<1.0.0,>=0.10.0 in /opt/conda/envs/Python-3.10/lib/python3.10/site-packages (from ibm-cos-sdk<2.14.0,>=2.12.0->ibm-watson-machine-learning) (0.10.0)\n",
      "Requirement already satisfied: python-dateutil<3.0.0,>=2.8.2 in /opt/conda/envs/Python-3.10/lib/python3.10/site-packages (from ibm-cos-sdk-core==2.12.0->ibm-cos-sdk<2.14.0,>=2.12.0->ibm-watson-machine-learning) (2.8.2)\n",
      "Requirement already satisfied: pytz>=2020.1 in /opt/conda/envs/Python-3.10/lib/python3.10/site-packages (from pandas<1.6.0,>=0.24.2->ibm-watson-machine-learning) (2022.1)\n",
      "Requirement already satisfied: numpy>=1.21.0 in /opt/conda/envs/Python-3.10/lib/python3.10/site-packages (from pandas<1.6.0,>=0.24.2->ibm-watson-machine-learning) (1.23.1)\n",
      "Requirement already satisfied: idna<4,>=2.5 in /opt/conda/envs/Python-3.10/lib/python3.10/site-packages (from requests->ibm-watson-machine-learning) (3.3)\n",
      "Requirement already satisfied: charset-normalizer<4,>=2 in /opt/conda/envs/Python-3.10/lib/python3.10/site-packages (from requests->ibm-watson-machine-learning) (2.0.4)\n",
      "Requirement already satisfied: zipp>=0.5 in /opt/conda/envs/Python-3.10/lib/python3.10/site-packages (from importlib-metadata->ibm-watson-machine-learning) (3.8.0)\n",
      "Requirement already satisfied: six>=1.10.0 in /opt/conda/envs/Python-3.10/lib/python3.10/site-packages (from lomond->ibm-watson-machine-learning) (1.16.0)\n",
      "Requirement already satisfied: pyparsing!=3.0.5,>=2.0.2 in /opt/conda/envs/Python-3.10/lib/python3.10/site-packages (from packaging->ibm-watson-machine-learning) (3.0.9)\n"
     ]
    }
   ],
   "source": [
    "# Install and import the ibm-watson-machine-learning package\n",
    "!pip install -U ibm-watson-machine-learning"
   ]
  },
  {
   "cell_type": "code",
   "execution_count": 2,
   "metadata": {},
   "outputs": [],
   "source": [
    "# import needed libraries\n",
    "import seaborn as sns\n",
    "import matplotlib.pyplot as plt\n",
    "import numpy as np\n",
    "import sklearn\n",
    "import json\n",
    "from ibm_watson_machine_learning import APIClient\n",
    "from sklearn import datasets\n",
    "from sklearn.model_selection import train_test_split\n",
    "from sklearn.pipeline import Pipeline\n",
    "from sklearn.preprocessing import StandardScaler\n",
    "from sklearn.svm import SVC\n",
    "from sklearn.metrics import classification_report\n",
    "from sklearn.metrics import accuracy_score, classification_report\n",
    "from sklearn.model_selection import GridSearchCV\n",
    "from sklearn.model_selection import cross_val_score\n",
    "from sklearn.metrics import confusion_matrix\n",
    "from sklearn.metrics import roc_curve, auc\n",
    "from sklearn.preprocessing import label_binarize\n",
    "from sklearn.multiclass import OneVsRestClassifier"
   ]
  },
  {
   "cell_type": "markdown",
   "metadata": {},
   "source": [
    "# What The Dataset Looks Like"
   ]
  },
  {
   "cell_type": "markdown",
   "metadata": {},
   "source": [
    "In this 8 x 8 matrix you can see the shape of 0, where the pixels are represented with the integer from 0 to 16"
   ]
  },
  {
   "cell_type": "code",
   "execution_count": 3,
   "metadata": {},
   "outputs": [
    {
     "name": "stdout",
     "output_type": "stream",
     "text": [
      "[[ 0.  0.  5. 13.  9.  1.  0.  0.]\n",
      " [ 0.  0. 13. 15. 10. 15.  5.  0.]\n",
      " [ 0.  3. 15.  2.  0. 11.  8.  0.]\n",
      " [ 0.  4. 12.  0.  0.  8.  8.  0.]\n",
      " [ 0.  5.  8.  0.  0.  9.  8.  0.]\n",
      " [ 0.  4. 11.  0.  1. 12.  7.  0.]\n",
      " [ 0.  2. 14.  5. 10. 12.  0.  0.]\n",
      " [ 0.  0.  6. 13. 10.  0.  0.  0.]]\n"
     ]
    },
    {
     "data": {
      "text/plain": [
       "0"
      ]
     },
     "execution_count": 3,
     "metadata": {},
     "output_type": "execute_result"
    }
   ],
   "source": [
    "# Load the dataset from the sklearn and reshape it into a 8x8 matrix\n",
    "digits = datasets.load_digits()\n",
    "print(digits.data[0].reshape((8, 8)))\n",
    "digits.target[0]"
   ]
  },
  {
   "cell_type": "code",
   "execution_count": 4,
   "metadata": {},
   "outputs": [
    {
     "name": "stdout",
     "output_type": "stream",
     "text": [
      "Number of samples: 1797\n"
     ]
    }
   ],
   "source": [
    "# Print out the number of samples\n",
    "samples_count = len(digits.images)\n",
    "print(\"Number of samples: \" + str(samples_count))"
   ]
  },
  {
   "cell_type": "markdown",
   "metadata": {},
   "source": [
    "Splitting the datasets into three different subsets a training subset, a traditional test set and a scoring set"
   ]
  },
  {
   "cell_type": "code",
   "execution_count": 5,
   "metadata": {},
   "outputs": [],
   "source": [
    "# Split the datasets into 2 subset, train and tes. Then split the test set into two more subset, test and score\n",
    "X_train, X_test, y_train, y_test = train_test_split(\n",
    "    digits.data, digits.target, test_size=0.3, random_state=42)\n",
    "X_test, X_score, y_test, y_score = train_test_split(\n",
    "    X_test, y_test, test_size=0.33, random_state=42)"
   ]
  },
  {
   "cell_type": "markdown",
   "metadata": {},
   "source": [
    "# Building The Machine Learning Pipeline"
   ]
  },
  {
   "cell_type": "markdown",
   "metadata": {},
   "source": [
    "After this code snippet is executed, we will have a trained machine learning model represented by the pipeline variable. This model consists of both data preprocessing (scaling) and the SVM classifier. We can use this pipeline to make predictions on new data or evaluate its performance on test data."
   ]
  },
  {
   "cell_type": "code",
   "execution_count": 6,
   "metadata": {},
   "outputs": [
    {
     "data": {
      "text/html": [
       "<style>#sk-container-id-1 {color: black;background-color: white;}#sk-container-id-1 pre{padding: 0;}#sk-container-id-1 div.sk-toggleable {background-color: white;}#sk-container-id-1 label.sk-toggleable__label {cursor: pointer;display: block;width: 100%;margin-bottom: 0;padding: 0.3em;box-sizing: border-box;text-align: center;}#sk-container-id-1 label.sk-toggleable__label-arrow:before {content: \"▸\";float: left;margin-right: 0.25em;color: #696969;}#sk-container-id-1 label.sk-toggleable__label-arrow:hover:before {color: black;}#sk-container-id-1 div.sk-estimator:hover label.sk-toggleable__label-arrow:before {color: black;}#sk-container-id-1 div.sk-toggleable__content {max-height: 0;max-width: 0;overflow: hidden;text-align: left;background-color: #f0f8ff;}#sk-container-id-1 div.sk-toggleable__content pre {margin: 0.2em;color: black;border-radius: 0.25em;background-color: #f0f8ff;}#sk-container-id-1 input.sk-toggleable__control:checked~div.sk-toggleable__content {max-height: 200px;max-width: 100%;overflow: auto;}#sk-container-id-1 input.sk-toggleable__control:checked~label.sk-toggleable__label-arrow:before {content: \"▾\";}#sk-container-id-1 div.sk-estimator input.sk-toggleable__control:checked~label.sk-toggleable__label {background-color: #d4ebff;}#sk-container-id-1 div.sk-label input.sk-toggleable__control:checked~label.sk-toggleable__label {background-color: #d4ebff;}#sk-container-id-1 input.sk-hidden--visually {border: 0;clip: rect(1px 1px 1px 1px);clip: rect(1px, 1px, 1px, 1px);height: 1px;margin: -1px;overflow: hidden;padding: 0;position: absolute;width: 1px;}#sk-container-id-1 div.sk-estimator {font-family: monospace;background-color: #f0f8ff;border: 1px dotted black;border-radius: 0.25em;box-sizing: border-box;margin-bottom: 0.5em;}#sk-container-id-1 div.sk-estimator:hover {background-color: #d4ebff;}#sk-container-id-1 div.sk-parallel-item::after {content: \"\";width: 100%;border-bottom: 1px solid gray;flex-grow: 1;}#sk-container-id-1 div.sk-label:hover label.sk-toggleable__label {background-color: #d4ebff;}#sk-container-id-1 div.sk-serial::before {content: \"\";position: absolute;border-left: 1px solid gray;box-sizing: border-box;top: 0;bottom: 0;left: 50%;z-index: 0;}#sk-container-id-1 div.sk-serial {display: flex;flex-direction: column;align-items: center;background-color: white;padding-right: 0.2em;padding-left: 0.2em;position: relative;}#sk-container-id-1 div.sk-item {position: relative;z-index: 1;}#sk-container-id-1 div.sk-parallel {display: flex;align-items: stretch;justify-content: center;background-color: white;position: relative;}#sk-container-id-1 div.sk-item::before, #sk-container-id-1 div.sk-parallel-item::before {content: \"\";position: absolute;border-left: 1px solid gray;box-sizing: border-box;top: 0;bottom: 0;left: 50%;z-index: -1;}#sk-container-id-1 div.sk-parallel-item {display: flex;flex-direction: column;z-index: 1;position: relative;background-color: white;}#sk-container-id-1 div.sk-parallel-item:first-child::after {align-self: flex-end;width: 50%;}#sk-container-id-1 div.sk-parallel-item:last-child::after {align-self: flex-start;width: 50%;}#sk-container-id-1 div.sk-parallel-item:only-child::after {width: 0;}#sk-container-id-1 div.sk-dashed-wrapped {border: 1px dashed gray;margin: 0 0.4em 0.5em 0.4em;box-sizing: border-box;padding-bottom: 0.4em;background-color: white;}#sk-container-id-1 div.sk-label label {font-family: monospace;font-weight: bold;display: inline-block;line-height: 1.2em;}#sk-container-id-1 div.sk-label-container {text-align: center;}#sk-container-id-1 div.sk-container {/* jupyter's `normalize.less` sets `[hidden] { display: none; }` but bootstrap.min.css set `[hidden] { display: none !important; }` so we also need the `!important` here to be able to override the default hidden behavior on the sphinx rendered scikit-learn.org. See: https://github.com/scikit-learn/scikit-learn/issues/21755 */display: inline-block !important;position: relative;}#sk-container-id-1 div.sk-text-repr-fallback {display: none;}</style><div id=\"sk-container-id-1\" class=\"sk-top-container\"><div class=\"sk-text-repr-fallback\"><pre>Pipeline(steps=[(&#x27;scaler&#x27;, StandardScaler()), (&#x27;svm&#x27;, SVC())])</pre><b>In a Jupyter environment, please rerun this cell to show the HTML representation or trust the notebook. <br />On GitHub, the HTML representation is unable to render, please try loading this page with nbviewer.org.</b></div><div class=\"sk-container\" hidden><div class=\"sk-item sk-dashed-wrapped\"><div class=\"sk-label-container\"><div class=\"sk-label sk-toggleable\"><input class=\"sk-toggleable__control sk-hidden--visually\" id=\"sk-estimator-id-1\" type=\"checkbox\" ><label for=\"sk-estimator-id-1\" class=\"sk-toggleable__label sk-toggleable__label-arrow\">Pipeline</label><div class=\"sk-toggleable__content\"><pre>Pipeline(steps=[(&#x27;scaler&#x27;, StandardScaler()), (&#x27;svm&#x27;, SVC())])</pre></div></div></div><div class=\"sk-serial\"><div class=\"sk-item\"><div class=\"sk-estimator sk-toggleable\"><input class=\"sk-toggleable__control sk-hidden--visually\" id=\"sk-estimator-id-2\" type=\"checkbox\" ><label for=\"sk-estimator-id-2\" class=\"sk-toggleable__label sk-toggleable__label-arrow\">StandardScaler</label><div class=\"sk-toggleable__content\"><pre>StandardScaler()</pre></div></div></div><div class=\"sk-item\"><div class=\"sk-estimator sk-toggleable\"><input class=\"sk-toggleable__control sk-hidden--visually\" id=\"sk-estimator-id-3\" type=\"checkbox\" ><label for=\"sk-estimator-id-3\" class=\"sk-toggleable__label sk-toggleable__label-arrow\">SVC</label><div class=\"sk-toggleable__content\"><pre>SVC()</pre></div></div></div></div></div></div></div>"
      ],
      "text/plain": [
       "Pipeline(steps=[('scaler', StandardScaler()), ('svm', SVC())])"
      ]
     },
     "execution_count": 6,
     "metadata": {},
     "output_type": "execute_result"
    }
   ],
   "source": [
    "# Create a standard scaler and a SVM classifier\n",
    "scaler = StandardScaler()\n",
    "svm_classifier = SVC(kernel='rbf')\n",
    "\n",
    "# Create a pipeline to preprocess the data and build the model\n",
    "pipeline = Pipeline([('scaler', scaler), ('svm', svm_classifier)])\n",
    "\n",
    "# Train the model on the training data\n",
    "pipeline.fit(X_train, y_train)"
   ]
  },
  {
   "cell_type": "markdown",
   "metadata": {},
   "source": [
    "# Evaluate The Model Using Traditional Test Set & Scoring Set"
   ]
  },
  {
   "cell_type": "markdown",
   "metadata": {},
   "source": [
    "In summary, this code assesses the model's performance in two ways: first, on the traditional test set, and second, on a scoring set (unlabeled data) to evaluate how well the model generalizes to new data. The accuracy scores and classification reports are printed to provide a comprehensive evaluation of the model's performance in both scenarios."
   ]
  },
  {
   "cell_type": "code",
   "execution_count": 7,
   "metadata": {},
   "outputs": [
    {
     "name": "stdout",
     "output_type": "stream",
     "text": [
      "Accuracy on traditional test set: 0.9806094182825484\n",
      "Accuracy on scoring set: 0.9776536312849162\n",
      "Classification report for traditional test set:\n",
      "               precision    recall  f1-score   support\n",
      "\n",
      "           0       1.00      1.00      1.00        33\n",
      "           1       1.00      1.00      1.00        32\n",
      "           2       0.94      1.00      0.97        29\n",
      "           3       1.00      0.93      0.97        30\n",
      "           4       0.97      1.00      0.99        37\n",
      "           5       1.00      1.00      1.00        50\n",
      "           6       0.97      1.00      0.99        37\n",
      "           7       1.00      0.95      0.97        40\n",
      "           8       0.94      1.00      0.97        29\n",
      "           9       0.98      0.93      0.95        44\n",
      "\n",
      "    accuracy                           0.98       361\n",
      "   macro avg       0.98      0.98      0.98       361\n",
      "weighted avg       0.98      0.98      0.98       361\n",
      "\n",
      "Classification report for scoring set:\n",
      "               precision    recall  f1-score   support\n",
      "\n",
      "           0       1.00      1.00      1.00        20\n",
      "           1       1.00      1.00      1.00        18\n",
      "           2       0.95      1.00      0.97        18\n",
      "           3       0.96      0.96      0.96        24\n",
      "           4       1.00      1.00      1.00        23\n",
      "           5       0.89      1.00      0.94        16\n",
      "           6       1.00      1.00      1.00        16\n",
      "           7       1.00      1.00      1.00        15\n",
      "           8       1.00      0.86      0.92        14\n",
      "           9       1.00      0.93      0.97        15\n",
      "\n",
      "    accuracy                           0.98       179\n",
      "   macro avg       0.98      0.97      0.98       179\n",
      "weighted avg       0.98      0.98      0.98       179\n",
      "\n"
     ]
    }
   ],
   "source": [
    "# Predict using the scoring data (X_score)\n",
    "y_score_pred = pipeline.predict(X_score)\n",
    "\n",
    "# Evaluate the model's performance on the traditional test set (X_test)\n",
    "y_test_pred = pipeline.predict(X_test)\n",
    "\n",
    "# Evaluate the model's accuracy on the traditional test set\n",
    "accuracy_test = accuracy_score(y_test, y_test_pred)\n",
    "print(\"Accuracy on traditional test set:\", accuracy_test)\n",
    "\n",
    "# Evaluate the model's accuracy on the scoring set\n",
    "accuracy_score_set = accuracy_score(y_score, y_score_pred)\n",
    "print(\"Accuracy on scoring set:\", accuracy_score_set)\n",
    "\n",
    "# Compare the classification reports for both sets\n",
    "report_test = classification_report(y_test, y_test_pred)\n",
    "print(\"Classification report for traditional test set:\\n\", report_test)\n",
    "\n",
    "report_score = classification_report(y_score, y_score_pred)\n",
    "print(\"Classification report for scoring set:\\n\", report_score)\n"
   ]
  },
  {
   "cell_type": "markdown",
   "metadata": {},
   "source": [
    "# Hyperparameter Tuning"
   ]
  },
  {
   "cell_type": "raw",
   "metadata": {},
   "source": [
    "This grid encompasses different values for 'C' and 'gamma', two critical hyperparameters of the SVM. A grid search is then conducted with 5-fold cross-validation to systematically explore and evaluate various hyperparameter combinations using the GridSearchCV function. The best combination of hyperparameters and the corresponding best model estimator are identified and stored. This process enables the systematic optimization of hyperparameters to enhance the performance of the SVM classifier."
   ]
  },
  {
   "cell_type": "code",
   "execution_count": 8,
   "metadata": {},
   "outputs": [
    {
     "name": "stdout",
     "output_type": "stream",
     "text": [
      "Best Parameters: {'svm__C': 10, 'svm__gamma': 0.01}\n",
      "Best Estimator: Pipeline(steps=[('scaler', StandardScaler()), ('svm', SVC(C=10, gamma=0.01))])\n"
     ]
    }
   ],
   "source": [
    "# Define a parameter grid for hyperparameter tuning\n",
    "param_grid = {\n",
    "    'svm__C': [0.1, 1, 10],\n",
    "    'svm__gamma': [0.001, 0.01, 0.1],\n",
    "}\n",
    "\n",
    "# Perform grid search with cross-validation\n",
    "grid_search = GridSearchCV(pipeline, param_grid, cv=5)\n",
    "grid_search.fit(X_train, y_train)\n",
    "\n",
    "# Get the best parameters and estimator from the grid search\n",
    "best_params = grid_search.best_params_\n",
    "best_estimator = grid_search.best_estimator_\n",
    "\n",
    "print(\"Best Parameters:\", best_params)\n",
    "print(\"Best Estimator:\", best_estimator)"
   ]
  },
  {
   "cell_type": "markdown",
   "metadata": {},
   "source": [
    "# Cross Validation"
   ]
  },
  {
   "cell_type": "markdown",
   "metadata": {},
   "source": [
    "By using cross-validation, this code ensures a more robust evaluation of the model's performance compared to a single train-test split. It helps in assessing how well the model is likely to perform on unseen data and provides a more reliable estimate of its generalization capabilities."
   ]
  },
  {
   "cell_type": "code",
   "execution_count": 9,
   "metadata": {},
   "outputs": [
    {
     "name": "stdout",
     "output_type": "stream",
     "text": [
      "Cross-Validation Scores: [0.96388889 0.925      0.94707521 0.94707521 0.94707521]\n",
      "Mean Accuracy: 0.9460229031259673\n"
     ]
    }
   ],
   "source": [
    "# Perform cross-validation to evaluate the model\n",
    "cv_scores = cross_val_score(pipeline, digits.data, digits.target, cv=5)\n",
    "print(\"Cross-Validation Scores:\", cv_scores)\n",
    "print(\"Mean Accuracy:\", cv_scores.mean())"
   ]
  },
  {
   "cell_type": "markdown",
   "metadata": {},
   "source": [
    "# Confusion Matrix"
   ]
  },
  {
   "cell_type": "markdown",
   "metadata": {},
   "source": [
    "By plotting the confusion matrix as a heatmap, this code offers a visual representation of the model's performance on the test set. It helps in identifying which classes the model is good at predicting and where it might be making errors, such as confusing one class with another. This visualization is valuable for understanding the model's strengths and weaknesses."
   ]
  },
  {
   "cell_type": "code",
   "execution_count": 10,
   "metadata": {},
   "outputs": [
    {
     "data": {
      "image/png": "[encoded data removed]",
      "text/plain": [
       "<Figure size 800x600 with 2 Axes>"
      ]
     },
     "metadata": {},
     "output_type": "display_data"
    }
   ],
   "source": [
    "# Compute confusion matrix for the test set\n",
    "confusion_mat = confusion_matrix(y_test, y_test_pred)\n",
    "\n",
    "# Plot the confusion matrix as a heatmap\n",
    "plt.figure(figsize=(8, 6))\n",
    "sns.heatmap(confusion_mat, annot=True, fmt='d', cmap='Blues')\n",
    "plt.xlabel('Predicted')\n",
    "plt.ylabel('Actual')\n",
    "plt.title('Confusion Matrix')\n",
    "plt.show()"
   ]
  },
  {
   "cell_type": "markdown",
   "metadata": {},
   "source": [
    "# Connect To IBM Cloud"
   ]
  },
  {
   "cell_type": "code",
   "execution_count": 11,
   "metadata": {},
   "outputs": [],
   "source": [
    "# Defining the API key and location then storing it in the wml_credentials dictionary\n",
    "api_key = 'B7puwM5ngDPEpRlE41VarEO8VjrWrHhk2KH3FEnZcrLK'\n",
    "location = 'https://us-south.ml.cloud.ibm.com'\n",
    "wml_credentials = {\n",
    "    \"apikey\": api_key,\n",
    "    \"url\": location\n",
    "}\n",
    "# Initialize the APIClient class using the credentials from the previous dictionary\n",
    "client = APIClient(wml_credentials)"
   ]
  },
  {
   "cell_type": "code",
   "execution_count": 12,
   "metadata": {},
   "outputs": [
    {
     "name": "stdout",
     "output_type": "stream",
     "text": [
      "------------------------------------  -------------------------  ------------------------\n",
      "ID                                    NAME                       CREATED\n",
      "d472a856-7883-4834-984a-a50a2ecf3a0e  SVM Classifier Deployment  2023-09-18T15:16:46.481Z\n",
      "------------------------------------  -------------------------  ------------------------\n"
     ]
    },
    {
     "data": {
      "text/plain": [
       "'SUCCESS'"
      ]
     },
     "execution_count": 12,
     "metadata": {},
     "output_type": "execute_result"
    }
   ],
   "source": [
    "# List out spaces in IBM Cloud\n",
    "client.spaces.list(limit=10)\n",
    "\n",
    "# Set the space below as default\n",
    "space_id = \"d472a856-7883-4834-984a-a50a2ecf3a0e\"\n",
    "client.set.default_space(space_id)"
   ]
  },
  {
   "cell_type": "code",
   "execution_count": 13,
   "metadata": {},
   "outputs": [
    {
     "name": "stdout",
     "output_type": "stream",
     "text": [
      "b56101f1-309d-549b-a849-eaa63f77b2fb\n"
     ]
    }
   ],
   "source": [
    "# Retrieve the unique identifier for the software spec \"runtime-22.2-py3.10\"\n",
    "sofware_spec_uid = client.software_specifications.get_id_by_name(\"runtime-22.2-py3.10\")\n",
    "print(sofware_spec_uid)"
   ]
  },
  {
   "cell_type": "code",
   "execution_count": 14,
   "metadata": {},
   "outputs": [
    {
     "name": "stderr",
     "output_type": "stream",
     "text": [
      "/opt/conda/envs/Python-3.10/lib/python3.10/site-packages/ibm_watson_machine_learning/repository.py:603: UserWarning: This method is deprecated, please use get_model_id()\n",
      "  warn(\"This method is deprecated, please use get_model_id()\")\n"
     ]
    }
   ],
   "source": [
    "# Create a dictionary named metadata with specifics key-value pairs\n",
    "metadata = {\n",
    "            client.repository.ModelMetaNames.NAME: 'Sklearn Digits Classifier Model',\n",
    "            client.repository.ModelMetaNames.TYPE: 'scikit-learn_1.1',\n",
    "            client.repository.ModelMetaNames.SOFTWARE_SPEC_UID: sofware_spec_uid\n",
    "}\n",
    "\n",
    "# This method is used to store the machine learning model in the IBM Cloud repository. It takes several parameters:\n",
    "published_model = client.repository.store_model(\n",
    "    model=pipeline,\n",
    "    meta_props=metadata,\n",
    "    training_data=X_train,\n",
    "    training_target=y_train)"
   ]
  },
  {
   "cell_type": "code",
   "execution_count": 15,
   "metadata": {},
   "outputs": [
    {
     "name": "stdout",
     "output_type": "stream",
     "text": [
      "This method is deprecated, please use get_model_id()\n",
      "{\n",
      "  \"entity\": {\n",
      "    \"hybrid_pipeline_software_specs\": [],\n",
      "    \"label_column\": \"l1\",\n",
      "    \"schemas\": {\n",
      "      \"input\": [\n",
      "        {\n",
      "          \"fields\": [\n",
      "            {\n",
      "              \"name\": \"f0\",\n",
      "              \"type\": \"float\"\n",
      "            },\n",
      "            {\n",
      "              \"name\": \"f1\",\n",
      "              \"type\": \"float\"\n",
      "            },\n",
      "            {\n",
      "              \"name\": \"f2\",\n",
      "              \"type\": \"float\"\n",
      "            },\n",
      "            {\n",
      "              \"name\": \"f3\",\n",
      "              \"type\": \"float\"\n",
      "            },\n",
      "            {\n",
      "              \"name\": \"f4\",\n",
      "              \"type\": \"float\"\n",
      "            },\n",
      "            {\n",
      "              \"name\": \"f5\",\n",
      "              \"type\": \"float\"\n",
      "            },\n",
      "            {\n",
      "              \"name\": \"f6\",\n",
      "              \"type\": \"float\"\n",
      "            },\n",
      "            {\n",
      "              \"name\": \"f7\",\n",
      "              \"type\": \"float\"\n",
      "            },\n",
      "            {\n",
      "              \"name\": \"f8\",\n",
      "              \"type\": \"float\"\n",
      "            },\n",
      "            {\n",
      "              \"name\": \"f9\",\n",
      "              \"type\": \"float\"\n",
      "            },\n",
      "            {\n",
      "              \"name\": \"f10\",\n",
      "              \"type\": \"float\"\n",
      "            },\n",
      "            {\n",
      "              \"name\": \"f11\",\n",
      "              \"type\": \"float\"\n",
      "            },\n",
      "            {\n",
      "              \"name\": \"f12\",\n",
      "              \"type\": \"float\"\n",
      "            },\n",
      "            {\n",
      "              \"name\": \"f13\",\n",
      "              \"type\": \"float\"\n",
      "            },\n",
      "            {\n",
      "              \"name\": \"f14\",\n",
      "              \"type\": \"float\"\n",
      "            },\n",
      "            {\n",
      "              \"name\": \"f15\",\n",
      "              \"type\": \"float\"\n",
      "            },\n",
      "            {\n",
      "              \"name\": \"f16\",\n",
      "              \"type\": \"float\"\n",
      "            },\n",
      "            {\n",
      "              \"name\": \"f17\",\n",
      "              \"type\": \"float\"\n",
      "            },\n",
      "            {\n",
      "              \"name\": \"f18\",\n",
      "              \"type\": \"float\"\n",
      "            },\n",
      "            {\n",
      "              \"name\": \"f19\",\n",
      "              \"type\": \"float\"\n",
      "            },\n",
      "            {\n",
      "              \"name\": \"f20\",\n",
      "              \"type\": \"float\"\n",
      "            },\n",
      "            {\n",
      "              \"name\": \"f21\",\n",
      "              \"type\": \"float\"\n",
      "            },\n",
      "            {\n",
      "              \"name\": \"f22\",\n",
      "              \"type\": \"float\"\n",
      "            },\n",
      "            {\n",
      "              \"name\": \"f23\",\n",
      "              \"type\": \"float\"\n",
      "            },\n",
      "            {\n",
      "              \"name\": \"f24\",\n",
      "              \"type\": \"float\"\n",
      "            },\n",
      "            {\n",
      "              \"name\": \"f25\",\n",
      "              \"type\": \"float\"\n",
      "            },\n",
      "            {\n",
      "              \"name\": \"f26\",\n",
      "              \"type\": \"float\"\n",
      "            },\n",
      "            {\n",
      "              \"name\": \"f27\",\n",
      "              \"type\": \"float\"\n",
      "            },\n",
      "            {\n",
      "              \"name\": \"f28\",\n",
      "              \"type\": \"float\"\n",
      "            },\n",
      "            {\n",
      "              \"name\": \"f29\",\n",
      "              \"type\": \"float\"\n",
      "            },\n",
      "            {\n",
      "              \"name\": \"f30\",\n",
      "              \"type\": \"float\"\n",
      "            },\n",
      "            {\n",
      "              \"name\": \"f31\",\n",
      "              \"type\": \"float\"\n",
      "            },\n",
      "            {\n",
      "              \"name\": \"f32\",\n",
      "              \"type\": \"float\"\n",
      "            },\n",
      "            {\n",
      "              \"name\": \"f33\",\n",
      "              \"type\": \"float\"\n",
      "            },\n",
      "            {\n",
      "              \"name\": \"f34\",\n",
      "              \"type\": \"float\"\n",
      "            },\n",
      "            {\n",
      "              \"name\": \"f35\",\n",
      "              \"type\": \"float\"\n",
      "            },\n",
      "            {\n",
      "              \"name\": \"f36\",\n",
      "              \"type\": \"float\"\n",
      "            },\n",
      "            {\n",
      "              \"name\": \"f37\",\n",
      "              \"type\": \"float\"\n",
      "            },\n",
      "            {\n",
      "              \"name\": \"f38\",\n",
      "              \"type\": \"float\"\n",
      "            },\n",
      "            {\n",
      "              \"name\": \"f39\",\n",
      "              \"type\": \"float\"\n",
      "            },\n",
      "            {\n",
      "              \"name\": \"f40\",\n",
      "              \"type\": \"float\"\n",
      "            },\n",
      "            {\n",
      "              \"name\": \"f41\",\n",
      "              \"type\": \"float\"\n",
      "            },\n",
      "            {\n",
      "              \"name\": \"f42\",\n",
      "              \"type\": \"float\"\n",
      "            },\n",
      "            {\n",
      "              \"name\": \"f43\",\n",
      "              \"type\": \"float\"\n",
      "            },\n",
      "            {\n",
      "              \"name\": \"f44\",\n",
      "              \"type\": \"float\"\n",
      "            },\n",
      "            {\n",
      "              \"name\": \"f45\",\n",
      "              \"type\": \"float\"\n",
      "            },\n",
      "            {\n",
      "              \"name\": \"f46\",\n",
      "              \"type\": \"float\"\n",
      "            },\n",
      "            {\n",
      "              \"name\": \"f47\",\n",
      "              \"type\": \"float\"\n",
      "            },\n",
      "            {\n",
      "              \"name\": \"f48\",\n",
      "              \"type\": \"float\"\n",
      "            },\n",
      "            {\n",
      "              \"name\": \"f49\",\n",
      "              \"type\": \"float\"\n",
      "            },\n",
      "            {\n",
      "              \"name\": \"f50\",\n",
      "              \"type\": \"float\"\n",
      "            },\n",
      "            {\n",
      "              \"name\": \"f51\",\n",
      "              \"type\": \"float\"\n",
      "            },\n",
      "            {\n",
      "              \"name\": \"f52\",\n",
      "              \"type\": \"float\"\n",
      "            },\n",
      "            {\n",
      "              \"name\": \"f53\",\n",
      "              \"type\": \"float\"\n",
      "            },\n",
      "            {\n",
      "              \"name\": \"f54\",\n",
      "              \"type\": \"float\"\n",
      "            },\n",
      "            {\n",
      "              \"name\": \"f55\",\n",
      "              \"type\": \"float\"\n",
      "            },\n",
      "            {\n",
      "              \"name\": \"f56\",\n",
      "              \"type\": \"float\"\n",
      "            },\n",
      "            {\n",
      "              \"name\": \"f57\",\n",
      "              \"type\": \"float\"\n",
      "            },\n",
      "            {\n",
      "              \"name\": \"f58\",\n",
      "              \"type\": \"float\"\n",
      "            },\n",
      "            {\n",
      "              \"name\": \"f59\",\n",
      "              \"type\": \"float\"\n",
      "            },\n",
      "            {\n",
      "              \"name\": \"f60\",\n",
      "              \"type\": \"float\"\n",
      "            },\n",
      "            {\n",
      "              \"name\": \"f61\",\n",
      "              \"type\": \"float\"\n",
      "            },\n",
      "            {\n",
      "              \"name\": \"f62\",\n",
      "              \"type\": \"float\"\n",
      "            },\n",
      "            {\n",
      "              \"name\": \"f63\",\n",
      "              \"type\": \"float\"\n",
      "            }\n",
      "          ],\n",
      "          \"id\": \"1\",\n",
      "          \"type\": \"struct\"\n",
      "        }\n",
      "      ],\n",
      "      \"output\": []\n",
      "    },\n",
      "    \"software_spec\": {\n",
      "      \"id\": \"b56101f1-309d-549b-a849-eaa63f77b2fb\",\n",
      "      \"name\": \"runtime-22.2-py3.10\"\n",
      "    },\n",
      "    \"training_data_references\": [\n",
      "      {\n",
      "        \"id\": \"1\",\n",
      "        \"location\": {},\n",
      "        \"schema\": {\n",
      "          \"fields\": [\n",
      "            {\n",
      "              \"name\": \"f0\",\n",
      "              \"type\": \"float\"\n",
      "            },\n",
      "            {\n",
      "              \"name\": \"f1\",\n",
      "              \"type\": \"float\"\n",
      "            },\n",
      "            {\n",
      "              \"name\": \"f2\",\n",
      "              \"type\": \"float\"\n",
      "            },\n",
      "            {\n",
      "              \"name\": \"f3\",\n",
      "              \"type\": \"float\"\n",
      "            },\n",
      "            {\n",
      "              \"name\": \"f4\",\n",
      "              \"type\": \"float\"\n",
      "            },\n",
      "            {\n",
      "              \"name\": \"f5\",\n",
      "              \"type\": \"float\"\n",
      "            },\n",
      "            {\n",
      "              \"name\": \"f6\",\n",
      "              \"type\": \"float\"\n",
      "            },\n",
      "            {\n",
      "              \"name\": \"f7\",\n",
      "              \"type\": \"float\"\n",
      "            },\n",
      "            {\n",
      "              \"name\": \"f8\",\n",
      "              \"type\": \"float\"\n",
      "            },\n",
      "            {\n",
      "              \"name\": \"f9\",\n",
      "              \"type\": \"float\"\n",
      "            },\n",
      "            {\n",
      "              \"name\": \"f10\",\n",
      "              \"type\": \"float\"\n",
      "            },\n",
      "            {\n",
      "              \"name\": \"f11\",\n",
      "              \"type\": \"float\"\n",
      "            },\n",
      "            {\n",
      "              \"name\": \"f12\",\n",
      "              \"type\": \"float\"\n",
      "            },\n",
      "            {\n",
      "              \"name\": \"f13\",\n",
      "              \"type\": \"float\"\n",
      "            },\n",
      "            {\n",
      "              \"name\": \"f14\",\n",
      "              \"type\": \"float\"\n",
      "            },\n",
      "            {\n",
      "              \"name\": \"f15\",\n",
      "              \"type\": \"float\"\n",
      "            },\n",
      "            {\n",
      "              \"name\": \"f16\",\n",
      "              \"type\": \"float\"\n",
      "            },\n",
      "            {\n",
      "              \"name\": \"f17\",\n",
      "              \"type\": \"float\"\n",
      "            },\n",
      "            {\n",
      "              \"name\": \"f18\",\n",
      "              \"type\": \"float\"\n",
      "            },\n",
      "            {\n",
      "              \"name\": \"f19\",\n",
      "              \"type\": \"float\"\n",
      "            },\n",
      "            {\n",
      "              \"name\": \"f20\",\n",
      "              \"type\": \"float\"\n",
      "            },\n",
      "            {\n",
      "              \"name\": \"f21\",\n",
      "              \"type\": \"float\"\n",
      "            },\n",
      "            {\n",
      "              \"name\": \"f22\",\n",
      "              \"type\": \"float\"\n",
      "            },\n",
      "            {\n",
      "              \"name\": \"f23\",\n",
      "              \"type\": \"float\"\n",
      "            },\n",
      "            {\n",
      "              \"name\": \"f24\",\n",
      "              \"type\": \"float\"\n",
      "            },\n",
      "            {\n",
      "              \"name\": \"f25\",\n",
      "              \"type\": \"float\"\n",
      "            },\n",
      "            {\n",
      "              \"name\": \"f26\",\n",
      "              \"type\": \"float\"\n",
      "            },\n",
      "            {\n",
      "              \"name\": \"f27\",\n",
      "              \"type\": \"float\"\n",
      "            },\n",
      "            {\n",
      "              \"name\": \"f28\",\n",
      "              \"type\": \"float\"\n",
      "            },\n",
      "            {\n",
      "              \"name\": \"f29\",\n",
      "              \"type\": \"float\"\n",
      "            },\n",
      "            {\n",
      "              \"name\": \"f30\",\n",
      "              \"type\": \"float\"\n",
      "            },\n",
      "            {\n",
      "              \"name\": \"f31\",\n",
      "              \"type\": \"float\"\n",
      "            },\n",
      "            {\n",
      "              \"name\": \"f32\",\n",
      "              \"type\": \"float\"\n",
      "            },\n",
      "            {\n",
      "              \"name\": \"f33\",\n",
      "              \"type\": \"float\"\n",
      "            },\n",
      "            {\n",
      "              \"name\": \"f34\",\n",
      "              \"type\": \"float\"\n",
      "            },\n",
      "            {\n",
      "              \"name\": \"f35\",\n",
      "              \"type\": \"float\"\n",
      "            },\n",
      "            {\n",
      "              \"name\": \"f36\",\n",
      "              \"type\": \"float\"\n",
      "            },\n",
      "            {\n",
      "              \"name\": \"f37\",\n",
      "              \"type\": \"float\"\n",
      "            },\n",
      "            {\n",
      "              \"name\": \"f38\",\n",
      "              \"type\": \"float\"\n",
      "            },\n",
      "            {\n",
      "              \"name\": \"f39\",\n",
      "              \"type\": \"float\"\n",
      "            },\n",
      "            {\n",
      "              \"name\": \"f40\",\n",
      "              \"type\": \"float\"\n",
      "            },\n",
      "            {\n",
      "              \"name\": \"f41\",\n",
      "              \"type\": \"float\"\n",
      "            },\n",
      "            {\n",
      "              \"name\": \"f42\",\n",
      "              \"type\": \"float\"\n",
      "            },\n",
      "            {\n",
      "              \"name\": \"f43\",\n",
      "              \"type\": \"float\"\n",
      "            },\n",
      "            {\n",
      "              \"name\": \"f44\",\n",
      "              \"type\": \"float\"\n",
      "            },\n",
      "            {\n",
      "              \"name\": \"f45\",\n",
      "              \"type\": \"float\"\n",
      "            },\n",
      "            {\n",
      "              \"name\": \"f46\",\n",
      "              \"type\": \"float\"\n",
      "            },\n",
      "            {\n",
      "              \"name\": \"f47\",\n",
      "              \"type\": \"float\"\n",
      "            },\n",
      "            {\n",
      "              \"name\": \"f48\",\n",
      "              \"type\": \"float\"\n",
      "            },\n",
      "            {\n",
      "              \"name\": \"f49\",\n",
      "              \"type\": \"float\"\n",
      "            },\n",
      "            {\n",
      "              \"name\": \"f50\",\n",
      "              \"type\": \"float\"\n",
      "            },\n",
      "            {\n",
      "              \"name\": \"f51\",\n",
      "              \"type\": \"float\"\n",
      "            },\n",
      "            {\n",
      "              \"name\": \"f52\",\n",
      "              \"type\": \"float\"\n",
      "            },\n",
      "            {\n",
      "              \"name\": \"f53\",\n",
      "              \"type\": \"float\"\n",
      "            },\n",
      "            {\n",
      "              \"name\": \"f54\",\n",
      "              \"type\": \"float\"\n",
      "            },\n",
      "            {\n",
      "              \"name\": \"f55\",\n",
      "              \"type\": \"float\"\n",
      "            },\n",
      "            {\n",
      "              \"name\": \"f56\",\n",
      "              \"type\": \"float\"\n",
      "            },\n",
      "            {\n",
      "              \"name\": \"f57\",\n",
      "              \"type\": \"float\"\n",
      "            },\n",
      "            {\n",
      "              \"name\": \"f58\",\n",
      "              \"type\": \"float\"\n",
      "            },\n",
      "            {\n",
      "              \"name\": \"f59\",\n",
      "              \"type\": \"float\"\n",
      "            },\n",
      "            {\n",
      "              \"name\": \"f60\",\n",
      "              \"type\": \"float\"\n",
      "            },\n",
      "            {\n",
      "              \"name\": \"f61\",\n",
      "              \"type\": \"float\"\n",
      "            },\n",
      "            {\n",
      "              \"name\": \"f62\",\n",
      "              \"type\": \"float\"\n",
      "            },\n",
      "            {\n",
      "              \"name\": \"f63\",\n",
      "              \"type\": \"float\"\n",
      "            }\n",
      "          ],\n",
      "          \"id\": \"1\",\n",
      "          \"type\": \"ndarray\"\n",
      "        },\n",
      "        \"type\": \"container\"\n",
      "      }\n",
      "    ],\n",
      "    \"type\": \"scikit-learn_1.1\"\n",
      "  },\n",
      "  \"metadata\": {\n",
      "    \"created_at\": \"2023-09-22T15:29:51.329Z\",\n",
      "    \"id\": \"ac50b2b4-ef30-4a90-b9b6-96e906a9d4f0\",\n",
      "    \"modified_at\": \"2023-09-22T15:29:56.009Z\",\n",
      "    \"name\": \"Sklearn Digits Classifier Model\",\n",
      "    \"owner\": \"IBMid-6950002KBW\",\n",
      "    \"resource_key\": \"3766ed6e-35a3-4073-9a10-e8c06816b2d4\",\n",
      "    \"space_id\": \"d472a856-7883-4834-984a-a50a2ecf3a0e\"\n",
      "  },\n",
      "  \"system\": {\n",
      "    \"warnings\": []\n",
      "  }\n",
      "}\n"
     ]
    }
   ],
   "source": [
    "# Retrieves the unique id associated with the previously published model\n",
    "published_model_uid = client.repository.get_model_uid(published_model)\n",
    "\n",
    "# Retrieves detailed information based on the uid of the published model\n",
    "model_details = client.repository.get_details(published_model_uid)\n",
    "print(json.dumps(model_details, indent=2))"
   ]
  },
  {
   "cell_type": "code",
   "execution_count": 16,
   "metadata": {},
   "outputs": [
    {
     "name": "stdout",
     "output_type": "stream",
     "text": [
      "------------------------------------  -------------------------------  ------------------------  ----------------  ----------  ----------------\n",
      "ID                                    NAME                             CREATED                   TYPE              SPEC_STATE  SPEC_REPLACEMENT\n",
      "ac50b2b4-ef30-4a90-b9b6-96e906a9d4f0  Sklearn Digits Classifier Model  2023-09-22T15:29:51.002Z  scikit-learn_1.1  supported\n",
      "58a2ca73-6860-45b1-8f61-467fbbe39446  Sklearn Digits Classifier Model  2023-09-22T14:37:28.002Z  scikit-learn_1.1  supported\n",
      "288193e8-3eb1-4f11-902c-37bc0f7594e5  Sklearn Digits Classifier Model  2023-09-22T13:07:37.002Z  scikit-learn_1.1  supported\n",
      "------------------------------------  -------------------------------  ------------------------  ----------------  ----------  ----------------\n"
     ]
    }
   ],
   "source": [
    "# This line lists all the models that are available in the IBM Cloud repository\n",
    "models_details = client.repository.list_models()"
   ]
  },
  {
   "cell_type": "code",
   "execution_count": 17,
   "metadata": {},
   "outputs": [
    {
     "name": "stdout",
     "output_type": "stream",
     "text": [
      "\n",
      "\n",
      "#######################################################################################\n",
      "\n",
      "Synchronous deployment creation for uid: 'ac50b2b4-ef30-4a90-b9b6-96e906a9d4f0' started\n",
      "\n",
      "#######################################################################################\n",
      "\n",
      "\n",
      "initializing\n",
      "Note: online_url is deprecated and will be removed in a future release. Use serving_urls instead.\n",
      "\n",
      "ready\n",
      "\n",
      "\n",
      "------------------------------------------------------------------------------------------------\n",
      "Successfully finished deployment creation, deployment_uid='a2016f11-fcb7-4258-9702-0de4035ce443'\n",
      "------------------------------------------------------------------------------------------------\n",
      "\n",
      "\n"
     ]
    }
   ],
   "source": [
    "# A new metadata dictionary is created to specify deployment-related properties\n",
    "metadata = {\n",
    "    client.deployments.ConfigurationMetaNames.NAME: \"Deployment of scikit model\",\n",
    "    client.deployments.ConfigurationMetaNames.ONLINE: {}\n",
    "}\n",
    "\n",
    "# This code creates a deployment using the specified model and the deployment metadata properties. \n",
    "created_deployment = client.deployments.create(published_model_uid, meta_props=metadata)"
   ]
  },
  {
   "cell_type": "code",
   "execution_count": 18,
   "metadata": {},
   "outputs": [
    {
     "name": "stdout",
     "output_type": "stream",
     "text": [
      "https://us-south.ml.cloud.ibm.com/ml/v4/deployments/a2016f11-fcb7-4258-9702-0de4035ce443/predictions\n"
     ]
    }
   ],
   "source": [
    "# Retrieves the uid associated with the newly created deployment\n",
    "deployment_uid = client.deployments.get_uid(created_deployment)\n",
    "\n",
    "# Obtain the scoring endpoint URL\n",
    "scoring_endpoint = client.deployments.get_scoring_href(created_deployment)\n",
    "print(scoring_endpoint)"
   ]
  },
  {
   "cell_type": "code",
   "execution_count": 19,
   "metadata": {},
   "outputs": [
    {
     "name": "stdout",
     "output_type": "stream",
     "text": [
      "------------------------------------  --------------------------  -----  ------------------------  -------------  ----------  ----------------\n",
      "GUID                                  NAME                        STATE  CREATED                   ARTIFACT_TYPE  SPEC_STATE  SPEC_REPLACEMENT\n",
      "a2016f11-fcb7-4258-9702-0de4035ce443  Deployment of scikit model  ready  2023-09-22T15:30:02.359Z  model          supported\n",
      "ae7c7b48-7717-4be9-89cf-12e7c8ea66c8  Deployment of scikit model  ready  2023-09-22T14:37:32.909Z  model          supported\n",
      "0a773dbc-95bf-4acb-921f-51739c82f527  Deployment of scikit model  ready  2023-09-22T13:09:23.708Z  model          supported\n",
      "------------------------------------  --------------------------  -----  ------------------------  -------------  ----------  ----------------\n"
     ]
    },
    {
     "data": {
      "text/html": [
       "<div>\n",
       "<style scoped>\n",
       "    .dataframe tbody tr th:only-of-type {\n",
       "        vertical-align: middle;\n",
       "    }\n",
       "\n",
       "    .dataframe tbody tr th {\n",
       "        vertical-align: top;\n",
       "    }\n",
       "\n",
       "    .dataframe thead th {\n",
       "        text-align: right;\n",
       "    }\n",
       "</style>\n",
       "<table border=\"1\" class=\"dataframe\">\n",
       "  <thead>\n",
       "    <tr style=\"text-align: right;\">\n",
       "      <th></th>\n",
       "      <th>GUID</th>\n",
       "      <th>NAME</th>\n",
       "      <th>STATE</th>\n",
       "      <th>CREATED</th>\n",
       "      <th>ARTIFACT_TYPE</th>\n",
       "      <th>SPEC_STATE</th>\n",
       "      <th>SPEC_REPLACEMENT</th>\n",
       "    </tr>\n",
       "  </thead>\n",
       "  <tbody>\n",
       "    <tr>\n",
       "      <th>0</th>\n",
       "      <td>a2016f11-fcb7-4258-9702-0de4035ce443</td>\n",
       "      <td>Deployment of scikit model</td>\n",
       "      <td>ready</td>\n",
       "      <td>2023-09-22T15:30:02.359Z</td>\n",
       "      <td>model</td>\n",
       "      <td>supported</td>\n",
       "      <td></td>\n",
       "    </tr>\n",
       "    <tr>\n",
       "      <th>1</th>\n",
       "      <td>ae7c7b48-7717-4be9-89cf-12e7c8ea66c8</td>\n",
       "      <td>Deployment of scikit model</td>\n",
       "      <td>ready</td>\n",
       "      <td>2023-09-22T14:37:32.909Z</td>\n",
       "      <td>model</td>\n",
       "      <td>supported</td>\n",
       "      <td></td>\n",
       "    </tr>\n",
       "    <tr>\n",
       "      <th>2</th>\n",
       "      <td>0a773dbc-95bf-4acb-921f-51739c82f527</td>\n",
       "      <td>Deployment of scikit model</td>\n",
       "      <td>ready</td>\n",
       "      <td>2023-09-22T13:09:23.708Z</td>\n",
       "      <td>model</td>\n",
       "      <td>supported</td>\n",
       "      <td></td>\n",
       "    </tr>\n",
       "  </tbody>\n",
       "</table>\n",
       "</div>"
      ],
      "text/plain": [
       "                                   GUID                        NAME  STATE  \\\n",
       "0  a2016f11-fcb7-4258-9702-0de4035ce443  Deployment of scikit model  ready   \n",
       "1  ae7c7b48-7717-4be9-89cf-12e7c8ea66c8  Deployment of scikit model  ready   \n",
       "2  0a773dbc-95bf-4acb-921f-51739c82f527  Deployment of scikit model  ready   \n",
       "\n",
       "                    CREATED ARTIFACT_TYPE SPEC_STATE SPEC_REPLACEMENT  \n",
       "0  2023-09-22T15:30:02.359Z         model  supported                   \n",
       "1  2023-09-22T14:37:32.909Z         model  supported                   \n",
       "2  2023-09-22T13:09:23.708Z         model  supported                   "
      ]
     },
     "execution_count": 19,
     "metadata": {},
     "output_type": "execute_result"
    }
   ],
   "source": [
    "# List all the deployments available in IBM Cloud\n",
    "client.deployments.list()"
   ]
  },
  {
   "cell_type": "code",
   "execution_count": 20,
   "metadata": {},
   "outputs": [
    {
     "name": "stdout",
     "output_type": "stream",
     "text": [
      "Note: online_url is deprecated and will be removed in a future release. Use serving_urls instead.\n"
     ]
    },
    {
     "data": {
      "text/plain": [
       "{'entity': {'asset': {'id': 'ac50b2b4-ef30-4a90-b9b6-96e906a9d4f0'},\n",
       "  'custom': {},\n",
       "  'deployed_asset_type': 'model',\n",
       "  'hardware_spec': {'id': 'e7ed1d6c-2e89-42d7-aed5-863b972c1d2b',\n",
       "   'name': 'S',\n",
       "   'num_nodes': 1},\n",
       "  'name': 'Deployment of scikit model',\n",
       "  'online': {},\n",
       "  'space_id': 'd472a856-7883-4834-984a-a50a2ecf3a0e',\n",
       "  'status': {'online_url': {'url': 'https://us-south.ml.cloud.ibm.com/ml/v4/deployments/a2016f11-fcb7-4258-9702-0de4035ce443/predictions'},\n",
       "   'serving_urls': ['https://us-south.ml.cloud.ibm.com/ml/v4/deployments/a2016f11-fcb7-4258-9702-0de4035ce443/predictions'],\n",
       "   'state': 'ready'}},\n",
       " 'metadata': {'created_at': '2023-09-22T15:30:02.359Z',\n",
       "  'id': 'a2016f11-fcb7-4258-9702-0de4035ce443',\n",
       "  'modified_at': '2023-09-22T15:30:02.359Z',\n",
       "  'name': 'Deployment of scikit model',\n",
       "  'owner': 'IBMid-6950002KBW',\n",
       "  'space_id': 'd472a856-7883-4834-984a-a50a2ecf3a0e'},\n",
       " 'system': {'warnings': [{'id': 'Deprecated',\n",
       "    'message': 'online_url is deprecated and will be removed in a future release. Use serving_urls instead.'}]}}"
      ]
     },
     "execution_count": 20,
     "metadata": {},
     "output_type": "execute_result"
    }
   ],
   "source": [
    "# Retrieves the detail information on the deployment\n",
    "client.deployments.get_details(deployment_uid)"
   ]
  },
  {
   "cell_type": "code",
   "execution_count": 21,
   "metadata": {},
   "outputs": [],
   "source": [
    "# Define the datasets use to test the deployed model\n",
    "score_0 = list(X_score[0])\n",
    "score_1 = list(X_score[1])\n",
    "\n",
    "# Define the payload to score in the model deployment\n",
    "scoring_payload = {\"input_data\": [{\"values\": [score_0, score_1]}]}"
   ]
  },
  {
   "cell_type": "code",
   "execution_count": 22,
   "metadata": {},
   "outputs": [],
   "source": [
    "# This line sends a scoring request to the deployed model using the specified deployment uid and scoring payload. \n",
    "# The results are then stored in predictions variable\n",
    "predictions = client.deployments.score(deployment_uid, scoring_payload)"
   ]
  },
  {
   "cell_type": "code",
   "execution_count": 23,
   "metadata": {},
   "outputs": [
    {
     "name": "stdout",
     "output_type": "stream",
     "text": [
      "{\n",
      "  \"predictions\": [\n",
      "    {\n",
      "      \"fields\": [\n",
      "        \"prediction\"\n",
      "      ],\n",
      "      \"values\": [\n",
      "        [\n",
      "          2\n",
      "        ],\n",
      "        [\n",
      "          4\n",
      "        ]\n",
      "      ]\n",
      "    }\n",
      "  ]\n",
      "}\n"
     ]
    }
   ],
   "source": [
    "# Print out the predictions result\n",
    "print(json.dumps(predictions, indent=2))"
   ]
  },
  {
   "cell_type": "code",
   "execution_count": 24,
   "metadata": {},
   "outputs": [
    {
     "name": "stdout",
     "output_type": "stream",
     "text": [
      "Scoring Data (X_score):\n",
      "0.0 2.0 15.0 16.0 12.0 0.0 0.0 0.0\n",
      "0.0 8.0 11.0 8.0 16.0 0.0 0.0 0.0\n",
      "0.0 3.0 1.0 7.0 13.0 0.0 0.0 0.0\n",
      "0.0 0.0 0.0 10.0 8.0 0.0 0.0 0.0\n",
      "0.0 0.0 0.0 15.0 5.0 0.0 0.0 0.0\n",
      "0.0 0.0 7.0 15.0 0.0 0.0 0.0 0.0\n",
      "0.0 0.0 14.0 11.0 6.0 5.0 2.0 0.0\n",
      "0.0 1.0 16.0 16.0 16.0 16.0 9.0 0.0\n",
      "\n",
      "0.0 0.0 3.0 16.0 4.0 0.0 0.0 0.0\n",
      "0.0 0.0 12.0 13.0 2.0 5.0 0.0 0.0\n",
      "0.0 2.0 16.0 6.0 10.0 15.0 1.0 0.0\n",
      "0.0 9.0 15.0 3.0 16.0 11.0 7.0 0.0\n",
      "0.0 12.0 16.0 16.0 15.0 11.0 5.0 0.0\n",
      "0.0 3.0 9.0 16.0 3.0 0.0 0.0 0.0\n",
      "0.0 0.0 2.0 16.0 3.0 0.0 0.0 0.0\n",
      "0.0 0.0 6.0 14.0 0.0 0.0 0.0 0.0\n",
      "\n",
      "Scoring Labels (y_score):\n",
      "[2 4]\n"
     ]
    }
   ],
   "source": [
    "# Check if the predictions made above are true\n",
    "print(\"Scoring Data (X_score):\")\n",
    "for i in range(2):  # Print the first 2 sample of scoring data\n",
    "    x_sample = X_score[i].reshape(8, 8)\n",
    "    for row in x_sample:\n",
    "        print(\" \".join(map(str, row)))\n",
    "    print() \n",
    "\n",
    "# Print the corresponding labels from the y_score dataset\n",
    "print(\"Scoring Labels (y_score):\")\n",
    "print(y_score[:2])  # Print the labels for the first 2 scoring data"
   ]
  }
 ],
 "metadata": {
  "kernelspec": {
   "display_name": "Python 3.10",
   "language": "python",
   "name": "python3"
  },
  "language_info": {
   "codemirror_mode": {
    "name": "ipython",
    "version": 3
   },
   "file_extension": ".py",
   "mimetype": "text/x-python",
   "name": "python",
   "nbconvert_exporter": "python",
   "pygments_lexer": "ipython3",
   "version": "3.10.12"
  }
 },
 "nbformat": 4,
 "nbformat_minor": 1
}
